{
 "cells": [
  {
   "cell_type": "code",
   "execution_count": null,
   "metadata": {},
   "outputs": [],
   "source": [
    "import cv2\n",
    "import numpy as np\n",
    "import time"
   ]
  },
  {
   "cell_type": "code",
   "execution_count": 2,
   "metadata": {},
   "outputs": [],
   "source": [
    "capture_video = cv2.VideoCapture(0)"
   ]
  },
  {
   "cell_type": "code",
   "execution_count": 3,
   "metadata": {},
   "outputs": [],
   "source": [
    "time.sleep(1)\n",
    "count = 0\n",
    "background = 0"
   ]
  },
  {
   "cell_type": "code",
   "execution_count": 4,
   "metadata": {},
   "outputs": [],
   "source": [
    "for i in range(60):\n",
    "    return_val, background = capture_video.read()\n",
    "    if return_val == False:\n",
    "        continue"
   ]
  },
  {
   "cell_type": "code",
   "execution_count": 5,
   "metadata": {},
   "outputs": [],
   "source": [
    "background = np.flip(background, axis=1) \n",
    "\n",
    "cv2.imshow(\"img\",background)"
   ]
  },
  {
   "cell_type": "code",
   "execution_count": null,
   "metadata": {},
   "outputs": [],
   "source": [
    "while (capture_video.isOpened()):\n",
    "    return_val, img = capture_video.read()\n",
    "    if not return_val:\n",
    "        break\n",
    "    count = count + 1\n",
    "    img = np.flip(img, axis=1)\n",
    "    \n",
    "    hsv = cv2.cvtColor(img, cv2.COLOR_BGR2HSV)\n",
    "    lower_blue = np.array([110, 50, 50])\n",
    "    upper_blue = np.array([130, 255, 255])\n",
    "    \n",
    "    mask1 = cv2.inRange(hsv, lower_blue, upper_blue)\n",
    "    \n",
    "    lower_blue = np.array([100, 150, 0])\n",
    "    upper_blue = np.array([140, 255, 255])\n",
    "    mask2 = cv2.inRange(hsv, lower_blue, upper_blue)    \n",
    "    \n",
    "    mask1 = mask1 + mask2 \n",
    "\n",
    "    mask1 = cv2.morphologyEx(mask1, cv2.MORPH_OPEN, np.ones((3, 3), np.uint8), iterations=2)\n",
    "    mask1 = cv2.dilate(mask1, np.ones((3, 3), np.uint8), iterations=1)\n",
    "    mask2 = cv2.bitwise_not(mask1)\n",
    "    \n",
    "    #cv2.imshow(\"ma1\",mask1)\n",
    "    #cv2.imshow(\"ma2\",mask2)\n",
    "    \n",
    "    res1 = cv2.bitwise_and(background, background, mask=mask1)\n",
    "    res2 = cv2.bitwise_and(img, img, mask=mask2)\n",
    "    final_output = cv2.addWeighted(res1, 1, res2, 1, 0)\n",
    "\n",
    "    cv2.imshow(\"INVISIBLE MAN\", final_output)\n",
    "    k = cv2.waitKey(10)\n",
    "    if k == 27:\n",
    "        break    \n"
   ]
  },
  {
   "cell_type": "code",
   "execution_count": null,
   "metadata": {},
   "outputs": [],
   "source": [
    "cv2.destroyAllWindows()\n",
    "capture_video.release()\n"
   ]
  },
  {
   "cell_type": "code",
   "execution_count": null,
   "metadata": {},
   "outputs": [],
   "source": []
  },
  {
   "cell_type": "code",
   "execution_count": null,
   "metadata": {},
   "outputs": [],
   "source": []
  },
  {
   "cell_type": "code",
   "execution_count": null,
   "metadata": {},
   "outputs": [],
   "source": []
  },
  {
   "cell_type": "code",
   "execution_count": null,
   "metadata": {},
   "outputs": [],
   "source": []
  },
  {
   "cell_type": "code",
   "execution_count": null,
   "metadata": {},
   "outputs": [],
   "source": []
  },
  {
   "cell_type": "code",
   "execution_count": null,
   "metadata": {},
   "outputs": [],
   "source": []
  },
  {
   "cell_type": "code",
   "execution_count": null,
   "metadata": {},
   "outputs": [],
   "source": []
  }
 ],
 "metadata": {
  "kernelspec": {
   "display_name": "Python 3",
   "language": "python",
   "name": "python3"
  },
  "language_info": {
   "codemirror_mode": {
    "name": "ipython",
    "version": 3
   },
   "file_extension": ".py",
   "mimetype": "text/x-python",
   "name": "python",
   "nbconvert_exporter": "python",
   "pygments_lexer": "ipython3",
   "version": "3.6.1"
  }
 },
 "nbformat": 4,
 "nbformat_minor": 4
}
